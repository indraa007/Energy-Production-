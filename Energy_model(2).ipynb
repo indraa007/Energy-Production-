{
 "cells": [
  {
   "cell_type": "code",
   "execution_count": 1,
   "metadata": {
    "colab": {
     "base_uri": "https://localhost:8080/"
    },
    "id": "D0vffWme-KJc",
    "outputId": "c719e9f9-6854-463b-eeb7-818ec9a6da7e"
   },
   "outputs": [
    {
     "name": "stdout",
     "output_type": "stream",
     "text": [
      "Requirement already satisfied: ppscore in c:\\users\\indranil joshi\\anaconda3\\lib\\site-packages (1.3.0)\n",
      "Requirement already satisfied: scikit-learn<2.0.0,>=0.20.2 in c:\\users\\indranil joshi\\anaconda3\\lib\\site-packages (from ppscore) (1.0.2)\n",
      "Requirement already satisfied: pandas<2.0.0,>=1.0.0 in c:\\users\\indranil joshi\\anaconda3\\lib\\site-packages (from ppscore) (1.4.2)\n",
      "Requirement already satisfied: numpy>=1.18.5 in c:\\users\\indranil joshi\\anaconda3\\lib\\site-packages (from pandas<2.0.0,>=1.0.0->ppscore) (1.22.4)\n",
      "Requirement already satisfied: pytz>=2020.1 in c:\\users\\indranil joshi\\anaconda3\\lib\\site-packages (from pandas<2.0.0,>=1.0.0->ppscore) (2024.1)\n",
      "Requirement already satisfied: python-dateutil>=2.8.1 in c:\\users\\indranil joshi\\anaconda3\\lib\\site-packages (from pandas<2.0.0,>=1.0.0->ppscore) (2.8.2)\n",
      "Requirement already satisfied: six>=1.5 in c:\\users\\indranil joshi\\anaconda3\\lib\\site-packages (from python-dateutil>=2.8.1->pandas<2.0.0,>=1.0.0->ppscore) (1.16.0)\n",
      "Requirement already satisfied: scipy>=1.1.0 in c:\\users\\indranil joshi\\anaconda3\\lib\\site-packages (from scikit-learn<2.0.0,>=0.20.2->ppscore) (1.7.3)\n",
      "Requirement already satisfied: threadpoolctl>=2.0.0 in c:\\users\\indranil joshi\\anaconda3\\lib\\site-packages (from scikit-learn<2.0.0,>=0.20.2->ppscore) (2.2.0)\n",
      "Requirement already satisfied: joblib>=0.11 in c:\\users\\indranil joshi\\anaconda3\\lib\\site-packages (from scikit-learn<2.0.0,>=0.20.2->ppscore) (1.1.0)\n"
     ]
    }
   ],
   "source": [
    "import pandas as pd\n",
    "import numpy as np\n",
    "import sympy as sp\n",
    "import matplotlib.pyplot as plt\n",
    "import seaborn as sns\n",
    "import seaborn as sb\n",
    "!pip install ppscore\n"
   ]
  },
  {
   "cell_type": "code",
   "execution_count": 2,
   "metadata": {
    "colab": {
     "base_uri": "https://localhost:8080/",
     "height": 423
    },
    "id": "ptRDWZ-UJpS8",
    "outputId": "c5eaf0f5-b182-42af-ff9a-c51d1b37b9be"
   },
   "outputs": [
    {
     "data": {
      "text/html": [
       "<div>\n",
       "<style scoped>\n",
       "    .dataframe tbody tr th:only-of-type {\n",
       "        vertical-align: middle;\n",
       "    }\n",
       "\n",
       "    .dataframe tbody tr th {\n",
       "        vertical-align: top;\n",
       "    }\n",
       "\n",
       "    .dataframe thead th {\n",
       "        text-align: right;\n",
       "    }\n",
       "</style>\n",
       "<table border=\"1\" class=\"dataframe\">\n",
       "  <thead>\n",
       "    <tr style=\"text-align: right;\">\n",
       "      <th></th>\n",
       "      <th>temperature</th>\n",
       "      <th>exhaust_vacuum</th>\n",
       "      <th>amb_pressure</th>\n",
       "      <th>r_humidity</th>\n",
       "      <th>energy_production</th>\n",
       "    </tr>\n",
       "  </thead>\n",
       "  <tbody>\n",
       "    <tr>\n",
       "      <th>0</th>\n",
       "      <td>9.59</td>\n",
       "      <td>38.56</td>\n",
       "      <td>1017.01</td>\n",
       "      <td>60.10</td>\n",
       "      <td>481.30</td>\n",
       "    </tr>\n",
       "    <tr>\n",
       "      <th>1</th>\n",
       "      <td>12.04</td>\n",
       "      <td>42.34</td>\n",
       "      <td>1019.72</td>\n",
       "      <td>94.67</td>\n",
       "      <td>465.36</td>\n",
       "    </tr>\n",
       "    <tr>\n",
       "      <th>2</th>\n",
       "      <td>13.87</td>\n",
       "      <td>45.08</td>\n",
       "      <td>1024.42</td>\n",
       "      <td>81.69</td>\n",
       "      <td>465.48</td>\n",
       "    </tr>\n",
       "    <tr>\n",
       "      <th>3</th>\n",
       "      <td>13.72</td>\n",
       "      <td>54.30</td>\n",
       "      <td>1017.89</td>\n",
       "      <td>79.08</td>\n",
       "      <td>467.05</td>\n",
       "    </tr>\n",
       "    <tr>\n",
       "      <th>4</th>\n",
       "      <td>15.14</td>\n",
       "      <td>49.64</td>\n",
       "      <td>1023.78</td>\n",
       "      <td>75.00</td>\n",
       "      <td>463.58</td>\n",
       "    </tr>\n",
       "    <tr>\n",
       "      <th>...</th>\n",
       "      <td>...</td>\n",
       "      <td>...</td>\n",
       "      <td>...</td>\n",
       "      <td>...</td>\n",
       "      <td>...</td>\n",
       "    </tr>\n",
       "    <tr>\n",
       "      <th>9563</th>\n",
       "      <td>17.10</td>\n",
       "      <td>49.69</td>\n",
       "      <td>1005.53</td>\n",
       "      <td>81.82</td>\n",
       "      <td>457.32</td>\n",
       "    </tr>\n",
       "    <tr>\n",
       "      <th>9564</th>\n",
       "      <td>24.73</td>\n",
       "      <td>65.34</td>\n",
       "      <td>1015.42</td>\n",
       "      <td>52.80</td>\n",
       "      <td>446.92</td>\n",
       "    </tr>\n",
       "    <tr>\n",
       "      <th>9565</th>\n",
       "      <td>30.44</td>\n",
       "      <td>56.24</td>\n",
       "      <td>1005.19</td>\n",
       "      <td>56.24</td>\n",
       "      <td>429.34</td>\n",
       "    </tr>\n",
       "    <tr>\n",
       "      <th>9566</th>\n",
       "      <td>23.00</td>\n",
       "      <td>66.05</td>\n",
       "      <td>1020.61</td>\n",
       "      <td>80.29</td>\n",
       "      <td>421.57</td>\n",
       "    </tr>\n",
       "    <tr>\n",
       "      <th>9567</th>\n",
       "      <td>17.75</td>\n",
       "      <td>49.25</td>\n",
       "      <td>1020.86</td>\n",
       "      <td>63.67</td>\n",
       "      <td>454.41</td>\n",
       "    </tr>\n",
       "  </tbody>\n",
       "</table>\n",
       "<p>9568 rows × 5 columns</p>\n",
       "</div>"
      ],
      "text/plain": [
       "      temperature  exhaust_vacuum  amb_pressure  r_humidity  energy_production\n",
       "0            9.59           38.56       1017.01       60.10             481.30\n",
       "1           12.04           42.34       1019.72       94.67             465.36\n",
       "2           13.87           45.08       1024.42       81.69             465.48\n",
       "3           13.72           54.30       1017.89       79.08             467.05\n",
       "4           15.14           49.64       1023.78       75.00             463.58\n",
       "...           ...             ...           ...         ...                ...\n",
       "9563        17.10           49.69       1005.53       81.82             457.32\n",
       "9564        24.73           65.34       1015.42       52.80             446.92\n",
       "9565        30.44           56.24       1005.19       56.24             429.34\n",
       "9566        23.00           66.05       1020.61       80.29             421.57\n",
       "9567        17.75           49.25       1020.86       63.67             454.41\n",
       "\n",
       "[9568 rows x 5 columns]"
      ]
     },
     "execution_count": 2,
     "metadata": {},
     "output_type": "execute_result"
    }
   ],
   "source": [
    "df0 = pd.read_csv('Copy of Regrerssion_energy_production_data (2).csv', delimiter=';')\n",
    "df0"
   ]
  },
  {
   "cell_type": "code",
   "execution_count": 3,
   "metadata": {
    "colab": {
     "base_uri": "https://localhost:8080/",
     "height": 206
    },
    "id": "SrT-mLPZD_9_",
    "outputId": "eb51f298-90d0-44e1-ccbe-97e1cc0c3909"
   },
   "outputs": [
    {
     "data": {
      "text/html": [
       "<div>\n",
       "<style scoped>\n",
       "    .dataframe tbody tr th:only-of-type {\n",
       "        vertical-align: middle;\n",
       "    }\n",
       "\n",
       "    .dataframe tbody tr th {\n",
       "        vertical-align: top;\n",
       "    }\n",
       "\n",
       "    .dataframe thead th {\n",
       "        text-align: right;\n",
       "    }\n",
       "</style>\n",
       "<table border=\"1\" class=\"dataframe\">\n",
       "  <thead>\n",
       "    <tr style=\"text-align: right;\">\n",
       "      <th></th>\n",
       "      <th>temperature</th>\n",
       "      <th>exhaust_vacuum</th>\n",
       "      <th>amb_pressure</th>\n",
       "      <th>r_humidity</th>\n",
       "      <th>energy_production</th>\n",
       "    </tr>\n",
       "  </thead>\n",
       "  <tbody>\n",
       "    <tr>\n",
       "      <th>0</th>\n",
       "      <td>9.59</td>\n",
       "      <td>38.56</td>\n",
       "      <td>1017.01</td>\n",
       "      <td>60.10</td>\n",
       "      <td>481.30</td>\n",
       "    </tr>\n",
       "    <tr>\n",
       "      <th>1</th>\n",
       "      <td>12.04</td>\n",
       "      <td>42.34</td>\n",
       "      <td>1019.72</td>\n",
       "      <td>94.67</td>\n",
       "      <td>465.36</td>\n",
       "    </tr>\n",
       "    <tr>\n",
       "      <th>2</th>\n",
       "      <td>13.87</td>\n",
       "      <td>45.08</td>\n",
       "      <td>1024.42</td>\n",
       "      <td>81.69</td>\n",
       "      <td>465.48</td>\n",
       "    </tr>\n",
       "    <tr>\n",
       "      <th>3</th>\n",
       "      <td>13.72</td>\n",
       "      <td>54.30</td>\n",
       "      <td>1017.89</td>\n",
       "      <td>79.08</td>\n",
       "      <td>467.05</td>\n",
       "    </tr>\n",
       "    <tr>\n",
       "      <th>4</th>\n",
       "      <td>15.14</td>\n",
       "      <td>49.64</td>\n",
       "      <td>1023.78</td>\n",
       "      <td>75.00</td>\n",
       "      <td>463.58</td>\n",
       "    </tr>\n",
       "  </tbody>\n",
       "</table>\n",
       "</div>"
      ],
      "text/plain": [
       "   temperature  exhaust_vacuum  amb_pressure  r_humidity  energy_production\n",
       "0         9.59           38.56       1017.01       60.10             481.30\n",
       "1        12.04           42.34       1019.72       94.67             465.36\n",
       "2        13.87           45.08       1024.42       81.69             465.48\n",
       "3        13.72           54.30       1017.89       79.08             467.05\n",
       "4        15.14           49.64       1023.78       75.00             463.58"
      ]
     },
     "execution_count": 3,
     "metadata": {},
     "output_type": "execute_result"
    }
   ],
   "source": [
    "df0.head()"
   ]
  },
  {
   "cell_type": "code",
   "execution_count": 4,
   "metadata": {
    "colab": {
     "base_uri": "https://localhost:8080/"
    },
    "id": "SKLzzFulHD25",
    "outputId": "3523a6b2-7404-464e-ed41-959d2f97ff78"
   },
   "outputs": [
    {
     "data": {
      "text/plain": [
       "(9568, 5)"
      ]
     },
     "execution_count": 4,
     "metadata": {},
     "output_type": "execute_result"
    }
   ],
   "source": [
    "df0.shape"
   ]
  },
  {
   "cell_type": "code",
   "execution_count": 5,
   "metadata": {
    "colab": {
     "base_uri": "https://localhost:8080/"
    },
    "id": "E5WMnpJCKWTf",
    "outputId": "d5cce3cc-1a41-4c85-f9c9-68c3b4a26d25"
   },
   "outputs": [
    {
     "name": "stdout",
     "output_type": "stream",
     "text": [
      "<class 'pandas.core.frame.DataFrame'>\n",
      "RangeIndex: 9568 entries, 0 to 9567\n",
      "Data columns (total 5 columns):\n",
      " #   Column             Non-Null Count  Dtype  \n",
      "---  ------             --------------  -----  \n",
      " 0   temperature        9568 non-null   float64\n",
      " 1   exhaust_vacuum     9568 non-null   float64\n",
      " 2   amb_pressure       9568 non-null   float64\n",
      " 3   r_humidity         9568 non-null   float64\n",
      " 4   energy_production  9568 non-null   float64\n",
      "dtypes: float64(5)\n",
      "memory usage: 373.9 KB\n"
     ]
    }
   ],
   "source": [
    "df0.info()"
   ]
  },
  {
   "cell_type": "code",
   "execution_count": 6,
   "metadata": {
    "colab": {
     "base_uri": "https://localhost:8080/"
    },
    "id": "6Q__vnDvKaUD",
    "outputId": "ddc50ac2-f792-40ba-9115-0ad06f835cc6"
   },
   "outputs": [
    {
     "data": {
      "text/plain": [
       "41"
      ]
     },
     "execution_count": 6,
     "metadata": {},
     "output_type": "execute_result"
    }
   ],
   "source": [
    "df0.duplicated().sum()"
   ]
  },
  {
   "cell_type": "code",
   "execution_count": 7,
   "metadata": {
    "id": "sSsrWADVtGLd"
   },
   "outputs": [],
   "source": [
    "df0 = df0.drop_duplicates()\n"
   ]
  },
  {
   "cell_type": "code",
   "execution_count": 8,
   "metadata": {
    "colab": {
     "base_uri": "https://localhost:8080/"
    },
    "id": "z6z8_Adquh0I",
    "outputId": "1489308a-7345-4f63-809c-58d82ea53375"
   },
   "outputs": [
    {
     "name": "stdout",
     "output_type": "stream",
     "text": [
      "Remaining rows: 9527\n"
     ]
    }
   ],
   "source": [
    "new_count = df0.shape[0]\n",
    "print(f\"Remaining rows: {new_count}\")\n"
   ]
  },
  {
   "cell_type": "code",
   "execution_count": 9,
   "metadata": {
    "colab": {
     "base_uri": "https://localhost:8080/"
    },
    "id": "QmJ9psTXKdtf",
    "outputId": "18f55f6b-6d73-4d49-bbab-4caedbdf501e"
   },
   "outputs": [
    {
     "name": "stdout",
     "output_type": "stream",
     "text": [
      "temperature : 2773\n",
      "exhaust_vacuum : 634\n",
      "amb_pressure : 2517\n",
      "r_humidity : 4546\n",
      "energy_production : 4836\n",
      "-----------------------------------------------------\n",
      "Column : temperature\n",
      "25.21    13\n",
      "13.78    12\n",
      "24.43    11\n",
      "23.48    10\n",
      "24.27    10\n",
      "         ..\n",
      "12.92     1\n",
      "20.43     1\n",
      "12.01     1\n",
      "2.64      1\n",
      "11.81     1\n",
      "Name: temperature, Length: 2773, dtype: int64\n",
      "\n",
      "Column : exhaust_vacuum\n",
      "70.32    61\n",
      "51.43    47\n",
      "45.01    46\n",
      "68.08    45\n",
      "66.54    44\n",
      "         ..\n",
      "57.35     1\n",
      "76.16     1\n",
      "61.85     1\n",
      "44.37     1\n",
      "56.24     1\n",
      "Name: exhaust_vacuum, Length: 634, dtype: int64\n",
      "\n",
      "Column : amb_pressure\n",
      "1013.88    16\n",
      "1010.99    15\n",
      "1007.99    14\n",
      "1013.23    14\n",
      "1013.02    14\n",
      "           ..\n",
      "1002.67     1\n",
      "1001.37     1\n",
      "1006.51     1\n",
      "1004.94     1\n",
      "1002.74     1\n",
      "Name: amb_pressure, Length: 2517, dtype: int64\n",
      "\n",
      "Column : r_humidity\n",
      "100.09    26\n",
      "82.80     10\n",
      "85.23      8\n",
      "77.00      8\n",
      "73.67      8\n",
      "          ..\n",
      "49.28      1\n",
      "48.72      1\n",
      "73.97      1\n",
      "94.60      1\n",
      "63.67      1\n",
      "Name: r_humidity, Length: 4546, dtype: int64\n",
      "\n",
      "Column : energy_production\n",
      "468.80    9\n",
      "442.78    8\n",
      "447.06    8\n",
      "434.01    8\n",
      "466.20    7\n",
      "         ..\n",
      "427.15    1\n",
      "431.46    1\n",
      "489.04    1\n",
      "431.21    1\n",
      "421.57    1\n",
      "Name: energy_production, Length: 4836, dtype: int64\n",
      "\n"
     ]
    }
   ],
   "source": [
    "for col in df0.columns:\n",
    "  print(f'{col} : {df0[col].nunique()}')\n",
    "print('-----------------------------------------------------')\n",
    "\n",
    "for col in df0.columns:\n",
    "  print('Column :', col)\n",
    "  print(df0[col].value_counts())\n",
    "  print()"
   ]
  },
  {
   "cell_type": "code",
   "execution_count": 10,
   "metadata": {
    "colab": {
     "base_uri": "https://localhost:8080/"
    },
    "id": "nn_XmwkAKmwt",
    "outputId": "0a403d8d-88f0-4457-bbb3-42c40686725e"
   },
   "outputs": [
    {
     "name": "stdout",
     "output_type": "stream",
     "text": [
      "No. of Duplicate Records = 0\n"
     ]
    }
   ],
   "source": [
    "print('No. of Duplicate Records =',df0.duplicated().sum())"
   ]
  },
  {
   "cell_type": "code",
   "execution_count": 11,
   "metadata": {
    "colab": {
     "base_uri": "https://localhost:8080/"
    },
    "id": "TANTuUePuxrC",
    "outputId": "dc025e13-6a31-4c32-efc9-58eb5702204c"
   },
   "outputs": [
    {
     "name": "stdout",
     "output_type": "stream",
     "text": [
      "Empty DataFrame\n",
      "Columns: [temperature, exhaust_vacuum, amb_pressure, r_humidity, energy_production]\n",
      "Index: []\n"
     ]
    }
   ],
   "source": [
    "duplicated_rows = df0[df0.duplicated()]\n",
    "print(duplicated_rows)\n"
   ]
  },
  {
   "cell_type": "code",
   "execution_count": 12,
   "metadata": {
    "colab": {
     "base_uri": "https://localhost:8080/",
     "height": 451
    },
    "id": "6mkcxDI9K6qv",
    "outputId": "3fc524c3-54f2-4656-8772-937f3f148408"
   },
   "outputs": [
    {
     "data": {
      "image/png": "[encoded data removed]",
      "text/plain": [
       "<Figure size 1200x500 with 2 Axes>"
      ]
     },
     "metadata": {
      "needs_background": "light"
     },
     "output_type": "display_data"
    }
   ],
   "source": [
    "plt.figure(figsize=(12,5), dpi = 100)\n",
    "corr = df0.corr()\n",
    "sns.heatmap(corr, annot=True, cmap='coolwarm')\n",
    "plt.show()"
   ]
  },
  {
   "cell_type": "code",
   "execution_count": 13,
   "metadata": {
    "colab": {
     "base_uri": "https://localhost:8080/",
     "height": 836
    },
    "id": "dmu6Dr2eRZi0",
    "outputId": "2646ae20-319d-4c5b-e941-05a60cc69a16"
   },
   "outputs": [
    {
     "data": {
      "text/plain": [
       "<Figure size 864x432 with 0 Axes>"
      ]
     },
     "metadata": {},
     "output_type": "display_data"
    },
    {
     "data": {
      "image/png": "[encoded data removed]",
      "text/plain": [
       "<Figure size 1080x720 with 6 Axes>"
      ]
     },
     "metadata": {
      "needs_background": "light"
     },
     "output_type": "display_data"
    }
   ],
   "source": [
    "plt.figure(figsize=(12, 6))\n",
    "df0.hist(figsize=(15,10))\n",
    "plt.show()"
   ]
  },
  {
   "cell_type": "code",
   "execution_count": 14,
   "metadata": {
    "colab": {
     "base_uri": "https://localhost:8080/",
     "height": 458
    },
    "id": "pOUNk0yeaKQt",
    "outputId": "aa5ab9be-b36a-43cc-ff5d-ff31cd7e4c35"
   },
   "outputs": [
    {
     "data": {
      "text/plain": [
       "25.21    13\n",
       "13.78    12\n",
       "24.43    11\n",
       "23.48    10\n",
       "24.27    10\n",
       "         ..\n",
       "12.92     1\n",
       "20.43     1\n",
       "12.01     1\n",
       "2.64      1\n",
       "11.81     1\n",
       "Name: temperature, Length: 2773, dtype: int64"
      ]
     },
     "execution_count": 14,
     "metadata": {},
     "output_type": "execute_result"
    }
   ],
   "source": [
    "df0['temperature'].value_counts()"
   ]
  },
  {
   "cell_type": "code",
   "execution_count": 15,
   "metadata": {
    "colab": {
     "base_uri": "https://localhost:8080/",
     "height": 458
    },
    "id": "XjLbAGXngvaC",
    "outputId": "40b360eb-e5cb-4491-e809-1a327619bd28"
   },
   "outputs": [
    {
     "data": {
      "text/plain": [
       "70.32    61\n",
       "51.43    47\n",
       "45.01    46\n",
       "68.08    45\n",
       "66.54    44\n",
       "         ..\n",
       "57.35     1\n",
       "76.16     1\n",
       "61.85     1\n",
       "44.37     1\n",
       "56.24     1\n",
       "Name: exhaust_vacuum, Length: 634, dtype: int64"
      ]
     },
     "execution_count": 15,
     "metadata": {},
     "output_type": "execute_result"
    }
   ],
   "source": [
    "df0['exhaust_vacuum'].value_counts()"
   ]
  },
  {
   "cell_type": "code",
   "execution_count": 16,
   "metadata": {
    "colab": {
     "base_uri": "https://localhost:8080/",
     "height": 458
    },
    "id": "e7mC6kV58da3",
    "outputId": "7a8657ed-cca4-4278-c2e9-3f1c3946be5a"
   },
   "outputs": [
    {
     "data": {
      "text/plain": [
       "1013.88    16\n",
       "1010.99    15\n",
       "1007.99    14\n",
       "1013.23    14\n",
       "1013.02    14\n",
       "           ..\n",
       "1002.67     1\n",
       "1001.37     1\n",
       "1006.51     1\n",
       "1004.94     1\n",
       "1002.74     1\n",
       "Name: amb_pressure, Length: 2517, dtype: int64"
      ]
     },
     "execution_count": 16,
     "metadata": {},
     "output_type": "execute_result"
    }
   ],
   "source": [
    "df0['amb_pressure'].value_counts()"
   ]
  },
  {
   "cell_type": "code",
   "execution_count": 17,
   "metadata": {
    "colab": {
     "base_uri": "https://localhost:8080/",
     "height": 458
    },
    "id": "ioMzRsgp8nvM",
    "outputId": "5dfd4d88-6e41-4b21-a1f2-0242f81392b9"
   },
   "outputs": [
    {
     "data": {
      "text/plain": [
       "100.09    26\n",
       "82.80     10\n",
       "85.23      8\n",
       "77.00      8\n",
       "73.67      8\n",
       "          ..\n",
       "49.28      1\n",
       "48.72      1\n",
       "73.97      1\n",
       "94.60      1\n",
       "63.67      1\n",
       "Name: r_humidity, Length: 4546, dtype: int64"
      ]
     },
     "execution_count": 17,
     "metadata": {},
     "output_type": "execute_result"
    }
   ],
   "source": [
    "df0['r_humidity'].value_counts()"
   ]
  },
  {
   "cell_type": "code",
   "execution_count": 18,
   "metadata": {
    "colab": {
     "base_uri": "https://localhost:8080/",
     "height": 458
    },
    "id": "LjkN5mlf8u2j",
    "outputId": "ddf7db87-a0db-4cef-80e5-86b06d1b46e2"
   },
   "outputs": [
    {
     "data": {
      "text/plain": [
       "468.80    9\n",
       "442.78    8\n",
       "447.06    8\n",
       "434.01    8\n",
       "466.20    7\n",
       "         ..\n",
       "427.15    1\n",
       "431.46    1\n",
       "489.04    1\n",
       "431.21    1\n",
       "421.57    1\n",
       "Name: energy_production, Length: 4836, dtype: int64"
      ]
     },
     "execution_count": 18,
     "metadata": {},
     "output_type": "execute_result"
    }
   ],
   "source": [
    "df0['energy_production'].value_counts()"
   ]
  },
  {
   "cell_type": "code",
   "execution_count": 19,
   "metadata": {
    "colab": {
     "base_uri": "https://localhost:8080/",
     "height": 423
    },
    "id": "NRfXwdAz9qrV",
    "outputId": "ae5d16ab-a0f4-4c0f-cd29-3ed1af423ef7"
   },
   "outputs": [
    {
     "data": {
      "text/plain": [
       "temperature          0\n",
       "exhaust_vacuum       0\n",
       "amb_pressure         0\n",
       "r_humidity           0\n",
       "energy_production    0\n",
       "dtype: int64"
      ]
     },
     "execution_count": 19,
     "metadata": {},
     "output_type": "execute_result"
    }
   ],
   "source": [
    "df0.isnull().sum()"
   ]
  },
  {
   "cell_type": "code",
   "execution_count": 20,
   "metadata": {
    "colab": {
     "base_uri": "https://localhost:8080/"
    },
    "id": "nK_WgZI49qzt",
    "outputId": "42c8c149-557e-40df-9fd3-9d093f639825"
   },
   "outputs": [
    {
     "name": "stdout",
     "output_type": "stream",
     "text": [
      "False\n"
     ]
    }
   ],
   "source": [
    "has_null = df0.isnull().values.any()\n",
    "print(has_null)\n"
   ]
  },
  {
   "cell_type": "code",
   "execution_count": 21,
   "metadata": {
    "colab": {
     "base_uri": "https://localhost:8080/"
    },
    "id": "GEYuqF_3-BZ4",
    "outputId": "c72ee781-fb13-4167-b045-b7ebebbd09a4"
   },
   "outputs": [
    {
     "name": "stdout",
     "output_type": "stream",
     "text": [
      "                    x                  y   ppscore            case  \\\n",
      "0         temperature        temperature  1.000000  predict_itself   \n",
      "1         temperature     exhaust_vacuum  0.494432      regression   \n",
      "2         temperature       amb_pressure  0.000000      regression   \n",
      "3         temperature         r_humidity  0.000000      regression   \n",
      "4         temperature  energy_production  0.654677      regression   \n",
      "5      exhaust_vacuum        temperature  0.651725      regression   \n",
      "6      exhaust_vacuum     exhaust_vacuum  1.000000  predict_itself   \n",
      "7      exhaust_vacuum       amb_pressure  0.707706      regression   \n",
      "8      exhaust_vacuum         r_humidity  0.243824      regression   \n",
      "9      exhaust_vacuum  energy_production  0.727989      regression   \n",
      "10       amb_pressure        temperature  0.029599      regression   \n",
      "11       amb_pressure     exhaust_vacuum  0.037393      regression   \n",
      "12       amb_pressure       amb_pressure  1.000000  predict_itself   \n",
      "13       amb_pressure         r_humidity  0.000000      regression   \n",
      "14       amb_pressure  energy_production  0.052820      regression   \n",
      "15         r_humidity        temperature  0.000000      regression   \n",
      "16         r_humidity     exhaust_vacuum  0.000000      regression   \n",
      "17         r_humidity       amb_pressure  0.000000      regression   \n",
      "18         r_humidity         r_humidity  1.000000  predict_itself   \n",
      "19         r_humidity  energy_production  0.000000      regression   \n",
      "20  energy_production        temperature  0.614910      regression   \n",
      "21  energy_production     exhaust_vacuum  0.529610      regression   \n",
      "22  energy_production       amb_pressure  0.000000      regression   \n",
      "23  energy_production         r_humidity  0.000000      regression   \n",
      "24  energy_production  energy_production  1.000000  predict_itself   \n",
      "\n",
      "    is_valid_score               metric  baseline_score  model_score  \\\n",
      "0             True                 None        0.000000     1.000000   \n",
      "1             True  mean absolute error       11.643186     5.886428   \n",
      "2             True  mean absolute error        4.744948     5.053609   \n",
      "3             True  mean absolute error       11.970838    12.008846   \n",
      "4             True  mean absolute error       14.633354     5.053229   \n",
      "5             True  mean absolute error        6.380216     2.222068   \n",
      "6             True                 None        0.000000     1.000000   \n",
      "7             True  mean absolute error        4.744948     1.386922   \n",
      "8             True  mean absolute error       11.970838     9.052063   \n",
      "9             True  mean absolute error       14.633354     3.980427   \n",
      "10            True  mean absolute error        6.380216     6.191365   \n",
      "11            True  mean absolute error       11.643186    11.207813   \n",
      "12            True                 None        0.000000     1.000000   \n",
      "13            True  mean absolute error       11.970838    14.616305   \n",
      "14            True  mean absolute error       14.633354    13.860417   \n",
      "15            True  mean absolute error        6.380216     6.636674   \n",
      "16            True  mean absolute error       11.643186    12.670693   \n",
      "17            True  mean absolute error        4.744948     6.294307   \n",
      "18            True                 None        0.000000     1.000000   \n",
      "19            True  mean absolute error       14.633354    16.585664   \n",
      "20            True  mean absolute error        6.380216     2.456957   \n",
      "21            True  mean absolute error       11.643186     5.476838   \n",
      "22            True  mean absolute error        4.744948     5.261708   \n",
      "23            True  mean absolute error       11.970838    14.248463   \n",
      "24            True                 None        0.000000     1.000000   \n",
      "\n",
      "                      model  \n",
      "0                      None  \n",
      "1   DecisionTreeRegressor()  \n",
      "2   DecisionTreeRegressor()  \n",
      "3   DecisionTreeRegressor()  \n",
      "4   DecisionTreeRegressor()  \n",
      "5   DecisionTreeRegressor()  \n",
      "6                      None  \n",
      "7   DecisionTreeRegressor()  \n",
      "8   DecisionTreeRegressor()  \n",
      "9   DecisionTreeRegressor()  \n",
      "10  DecisionTreeRegressor()  \n",
      "11  DecisionTreeRegressor()  \n",
      "12                     None  \n",
      "13  DecisionTreeRegressor()  \n",
      "14  DecisionTreeRegressor()  \n",
      "15  DecisionTreeRegressor()  \n",
      "16  DecisionTreeRegressor()  \n",
      "17  DecisionTreeRegressor()  \n",
      "18                     None  \n",
      "19  DecisionTreeRegressor()  \n",
      "20  DecisionTreeRegressor()  \n",
      "21  DecisionTreeRegressor()  \n",
      "22  DecisionTreeRegressor()  \n",
      "23  DecisionTreeRegressor()  \n",
      "24                     None  \n"
     ]
    }
   ],
   "source": [
    "import ppscore as pps\n",
    "\n",
    "pp = pps.matrix(df0)\n",
    "print(pp)"
   ]
  },
  {
   "cell_type": "code",
   "execution_count": 22,
   "metadata": {
    "colab": {
     "base_uri": "https://localhost:8080/"
    },
    "id": "a3-iYp3-wbXl",
    "outputId": "450be4c0-0673-4ee4-8f96-ad008b67cf60"
   },
   "outputs": [
    {
     "name": "stdout",
     "output_type": "stream",
     "text": [
      "      temperature  exhaust_vacuum  amb_pressure  r_humidity  energy_production\n",
      "30          33.94           74.67       1015.94       28.16             427.98\n",
      "38           9.95           41.82       1033.09       69.44             477.52\n",
      "233         34.65           74.67       1016.03       26.67             427.69\n",
      "315         14.46           42.86       1031.34       69.84             464.44\n",
      "385         14.20           42.86       1031.96       69.59             468.63\n",
      "400         35.01           74.67       1016.10       26.30             428.48\n",
      "426          9.06           40.02       1031.16       82.04             478.01\n",
      "534          8.96           40.02       1031.21       82.32             475.47\n",
      "835          8.87           41.82       1033.30       74.28             477.97\n",
      "922          8.53           40.02       1031.27       85.57             476.73\n",
      "1154        34.30           74.67       1015.98       25.89             427.84\n",
      "1166         7.64           40.02       1031.58       71.19             479.43\n",
      "1254        19.78           44.71       1015.70       29.43             465.49\n",
      "1527         7.77           41.82       1032.72       72.80             479.40\n",
      "1541         7.50           40.02       1031.39       82.53             476.01\n",
      "1992         7.17           41.92       1031.97       83.86             485.08\n",
      "2400         6.86           40.02       1031.50       77.94             476.45\n",
      "2450         8.18           40.02       1031.45       73.66             478.81\n",
      "2792        14.84           41.23        995.02       88.00             464.85\n",
      "2841         9.13           40.02       1031.08       74.76             473.47\n",
      "2897         7.46           41.82       1032.67       74.59             483.11\n",
      "3390         8.72           40.02       1031.32       78.09             477.86\n",
      "3395        18.15           41.23        993.82       61.21             456.32\n",
      "3595         6.45           40.02       1032.08       79.70             481.36\n",
      "4121         8.01           40.02       1031.33       85.01             477.84\n",
      "4128         8.83           41.92       1031.80       78.97             483.38\n",
      "4237        12.95           41.23        993.74       96.35             469.05\n",
      "4283         9.11           40.02       1031.10       83.02             479.03\n",
      "4537         9.66           41.82       1033.19       73.19             477.67\n",
      "4643         8.66           40.11       1032.86       75.31             479.76\n",
      "4785        13.83           41.23        993.31       93.94             466.20\n",
      "5170        14.13           41.23        994.60       93.02             467.84\n",
      "5184         9.87           41.82       1033.04       68.57             475.58\n",
      "5292        11.01           42.02        995.24       98.62             473.96\n",
      "5415         9.15           41.82       1032.88       75.11             477.78\n",
      "5505        14.07           42.86       1032.16       71.53             467.47\n",
      "5565        15.62           41.23        992.89       83.99             463.21\n",
      "6178         8.71           41.82       1033.08       74.53             477.94\n",
      "6193         6.25           40.02       1032.14       80.22             481.38\n",
      "6214        19.32           44.71       1015.30       28.81             464.38\n",
      "6886         9.80           41.82       1032.98       67.55             473.72\n",
      "6988         9.25           41.82       1033.25       74.73             478.48\n",
      "6993         8.68           41.82       1032.83       73.62             478.61\n",
      "7082         7.20           40.02       1031.71       69.89             480.53\n",
      "7181         8.22           41.82       1032.77       71.63             477.86\n",
      "7591        13.42           41.23        994.17       95.79             468.82\n",
      "7709        14.47           42.86       1031.55       66.73             466.64\n",
      "7771        18.21           41.23        993.11       62.29             457.53\n",
      "7936        34.24           74.67       1016.24       25.56             425.58\n",
      "8113         9.60           41.82       1032.93       72.63             475.01\n",
      "8299         8.76           41.82       1033.29       76.50             480.08\n",
      "8371        14.34           42.86       1031.75       66.81             466.17\n",
      "8499        12.51           41.92       1031.21       64.66             468.41\n",
      "8789         9.08           40.02       1031.20       75.34             476.69\n",
      "8827         9.99           41.82       1033.14       68.36             475.75\n",
      "9060        13.93           42.86       1032.37       71.11             468.88\n",
      "9125         7.66           41.92       1031.96       82.48             485.11\n",
      "9368        14.31           42.86       1031.14       69.60             465.36\n"
     ]
    }
   ],
   "source": [
    "from scipy import stats\n",
    "\n",
    "z_scores = stats.zscore(df0.select_dtypes(include=['float64', 'int64']))\n",
    "abs_z_scores = abs(z_scores)\n",
    "outliers = (abs_z_scores > 3).any(axis=1)\n",
    "print(df0[outliers])\n"
   ]
  },
  {
   "cell_type": "code",
   "execution_count": 23,
   "metadata": {
    "colab": {
     "base_uri": "https://localhost:8080/"
    },
    "id": "M6pjE-4ZwnwY",
    "outputId": "fb24a25d-ae29-43f9-a1b3-5e468867a7a9"
   },
   "outputs": [
    {
     "name": "stdout",
     "output_type": "stream",
     "text": [
      "      temperature  exhaust_vacuum  amb_pressure  r_humidity  energy_production\n",
      "30          33.94           74.67       1015.94       28.16             427.98\n",
      "38           9.95           41.82       1033.09       69.44             477.52\n",
      "175          9.06           41.92       1029.90       90.88             473.37\n",
      "233         34.65           74.67       1016.03       26.67             427.69\n",
      "315         14.46           42.86       1031.34       69.84             464.44\n",
      "...           ...             ...           ...         ...                ...\n",
      "9093         9.42           41.40       1030.38       87.80             472.99\n",
      "9125         7.66           41.92       1031.96       82.48             485.11\n",
      "9331         5.97           36.25       1029.65       86.74             487.03\n",
      "9368        14.31           42.86       1031.14       69.60             465.36\n",
      "9501        12.02           41.92       1030.10       84.45             465.82\n",
      "\n",
      "[104 rows x 5 columns]\n"
     ]
    }
   ],
   "source": [
    "Q1 = df0.quantile(0.25)\n",
    "Q3 = df0.quantile(0.75)\n",
    "IQR = Q3 - Q1\n",
    "\n",
    "# Identify outliers\n",
    "outliers = ((df0 < (Q1 - 1.5 * IQR)) | (df0 > (Q3 + 1.5 * IQR))).any(axis=1)\n",
    "print(df0[outliers])\n"
   ]
  },
  {
   "cell_type": "code",
   "execution_count": 24,
   "metadata": {
    "colab": {
     "base_uri": "https://localhost:8080/"
    },
    "id": "d1B9fTzAw3ry",
    "outputId": "a6567d43-7059-4cc2-bb9d-d3992caea75d"
   },
   "outputs": [
    {
     "data": {
      "text/html": [
       "<div>\n",
       "<style scoped>\n",
       "    .dataframe tbody tr th:only-of-type {\n",
       "        vertical-align: middle;\n",
       "    }\n",
       "\n",
       "    .dataframe tbody tr th {\n",
       "        vertical-align: top;\n",
       "    }\n",
       "\n",
       "    .dataframe thead th {\n",
       "        text-align: right;\n",
       "    }\n",
       "</style>\n",
       "<table border=\"1\" class=\"dataframe\">\n",
       "  <thead>\n",
       "    <tr style=\"text-align: right;\">\n",
       "      <th></th>\n",
       "      <th>temperature</th>\n",
       "      <th>exhaust_vacuum</th>\n",
       "      <th>amb_pressure</th>\n",
       "      <th>r_humidity</th>\n",
       "      <th>energy_production</th>\n",
       "    </tr>\n",
       "  </thead>\n",
       "  <tbody>\n",
       "    <tr>\n",
       "      <th>0</th>\n",
       "      <td>9.59</td>\n",
       "      <td>38.56</td>\n",
       "      <td>1017.01</td>\n",
       "      <td>60.10</td>\n",
       "      <td>481.30</td>\n",
       "    </tr>\n",
       "    <tr>\n",
       "      <th>1</th>\n",
       "      <td>12.04</td>\n",
       "      <td>42.34</td>\n",
       "      <td>1019.72</td>\n",
       "      <td>94.67</td>\n",
       "      <td>465.36</td>\n",
       "    </tr>\n",
       "    <tr>\n",
       "      <th>2</th>\n",
       "      <td>13.87</td>\n",
       "      <td>45.08</td>\n",
       "      <td>1024.42</td>\n",
       "      <td>81.69</td>\n",
       "      <td>465.48</td>\n",
       "    </tr>\n",
       "    <tr>\n",
       "      <th>3</th>\n",
       "      <td>13.72</td>\n",
       "      <td>54.30</td>\n",
       "      <td>1017.89</td>\n",
       "      <td>79.08</td>\n",
       "      <td>467.05</td>\n",
       "    </tr>\n",
       "    <tr>\n",
       "      <th>4</th>\n",
       "      <td>15.14</td>\n",
       "      <td>49.64</td>\n",
       "      <td>1023.78</td>\n",
       "      <td>75.00</td>\n",
       "      <td>463.58</td>\n",
       "    </tr>\n",
       "    <tr>\n",
       "      <th>...</th>\n",
       "      <td>...</td>\n",
       "      <td>...</td>\n",
       "      <td>...</td>\n",
       "      <td>...</td>\n",
       "      <td>...</td>\n",
       "    </tr>\n",
       "    <tr>\n",
       "      <th>9563</th>\n",
       "      <td>17.10</td>\n",
       "      <td>49.69</td>\n",
       "      <td>1005.53</td>\n",
       "      <td>81.82</td>\n",
       "      <td>457.32</td>\n",
       "    </tr>\n",
       "    <tr>\n",
       "      <th>9564</th>\n",
       "      <td>24.73</td>\n",
       "      <td>65.34</td>\n",
       "      <td>1015.42</td>\n",
       "      <td>52.80</td>\n",
       "      <td>446.92</td>\n",
       "    </tr>\n",
       "    <tr>\n",
       "      <th>9565</th>\n",
       "      <td>30.44</td>\n",
       "      <td>56.24</td>\n",
       "      <td>1005.19</td>\n",
       "      <td>56.24</td>\n",
       "      <td>429.34</td>\n",
       "    </tr>\n",
       "    <tr>\n",
       "      <th>9566</th>\n",
       "      <td>23.00</td>\n",
       "      <td>66.05</td>\n",
       "      <td>1020.61</td>\n",
       "      <td>80.29</td>\n",
       "      <td>421.57</td>\n",
       "    </tr>\n",
       "    <tr>\n",
       "      <th>9567</th>\n",
       "      <td>17.75</td>\n",
       "      <td>49.25</td>\n",
       "      <td>1020.86</td>\n",
       "      <td>63.67</td>\n",
       "      <td>454.41</td>\n",
       "    </tr>\n",
       "  </tbody>\n",
       "</table>\n",
       "<p>9423 rows × 5 columns</p>\n",
       "</div>"
      ],
      "text/plain": [
       "      temperature  exhaust_vacuum  amb_pressure  r_humidity  energy_production\n",
       "0            9.59           38.56       1017.01       60.10             481.30\n",
       "1           12.04           42.34       1019.72       94.67             465.36\n",
       "2           13.87           45.08       1024.42       81.69             465.48\n",
       "3           13.72           54.30       1017.89       79.08             467.05\n",
       "4           15.14           49.64       1023.78       75.00             463.58\n",
       "...           ...             ...           ...         ...                ...\n",
       "9563        17.10           49.69       1005.53       81.82             457.32\n",
       "9564        24.73           65.34       1015.42       52.80             446.92\n",
       "9565        30.44           56.24       1005.19       56.24             429.34\n",
       "9566        23.00           66.05       1020.61       80.29             421.57\n",
       "9567        17.75           49.25       1020.86       63.67             454.41\n",
       "\n",
       "[9423 rows x 5 columns]"
      ]
     },
     "execution_count": 24,
     "metadata": {},
     "output_type": "execute_result"
    }
   ],
   "source": [
    "# Assuming 'outliers' is a boolean mask\n",
    "df0 = df0[~outliers]  # Keep only the non-outlier rows\n",
    "df0\n"
   ]
  },
  {
   "cell_type": "code",
   "execution_count": 25,
   "metadata": {
    "colab": {
     "base_uri": "https://localhost:8080/"
    },
    "id": "9MPkbyBFxEXD",
    "outputId": "1f524c9d-cb31-4b04-d023-f97ea2b0dab9"
   },
   "outputs": [
    {
     "name": "stdout",
     "output_type": "stream",
     "text": [
      "       temperature  exhaust_vacuum  amb_pressure   r_humidity  \\\n",
      "count  9423.000000     9423.000000   9423.000000  9423.000000   \n",
      "mean     19.728498       54.404751   1013.125097    73.348106   \n",
      "std       7.415999       12.678711      5.698357    14.552445   \n",
      "min       1.810000       25.360000    997.340000    31.290000   \n",
      "25%      13.610000       41.760000   1009.070000    63.325000   \n",
      "50%      20.510000       52.720000   1012.880000    75.010000   \n",
      "75%      25.760000       66.540000   1017.090000    84.850000   \n",
      "max      35.770000       81.560000   1029.360000   100.160000   \n",
      "\n",
      "       energy_production  \n",
      "count        9423.000000  \n",
      "mean          454.174236  \n",
      "std            16.996007  \n",
      "min           420.260000  \n",
      "25%           439.695000  \n",
      "50%           451.200000  \n",
      "75%           468.095000  \n",
      "max           495.760000  \n"
     ]
    }
   ],
   "source": [
    "print(df0.describe())"
   ]
  },
  {
   "cell_type": "code",
   "execution_count": 26,
   "metadata": {
    "colab": {
     "base_uri": "https://localhost:8080/",
     "height": 545
    },
    "id": "duVVelPUxn4r",
    "outputId": "3027bb80-1d79-476d-acf4-f17de0991b26"
   },
   "outputs": [
    {
     "data": {
      "image/png": "[encoded data removed]",
      "text/plain": [
       "<Figure size 720x432 with 1 Axes>"
      ]
     },
     "metadata": {
      "needs_background": "light"
     },
     "output_type": "display_data"
    }
   ],
   "source": [
    "plt.figure(figsize=(10, 6))\n",
    "sns.boxplot(data=df0)\n",
    "plt.title(\"Box Plot for Outlier Check After Cleaning\")\n",
    "plt.show()\n"
   ]
  },
  {
   "cell_type": "code",
   "execution_count": 27,
   "metadata": {
    "colab": {
     "base_uri": "https://localhost:8080/",
     "height": 487
    },
    "id": "eco_seEDyfmm",
    "outputId": "c20ab442-1525-4404-e324-93acfd5eda31"
   },
   "outputs": [
    {
     "data": {
      "image/png": "[encoded data removed]",
      "text/plain": [
       "<Figure size 576x360 with 1 Axes>"
      ]
     },
     "metadata": {
      "needs_background": "light"
     },
     "output_type": "display_data"
    }
   ],
   "source": [
    "import matplotlib.pyplot as plt\n",
    "import seaborn as sns\n",
    "\n",
    "plt.figure(figsize=(8, 5))\n",
    "sns.boxplot(x=df0['amb_pressure'])\n",
    "plt.title(\"Box Plot of Ambient Pressure\")\n",
    "plt.xlabel(\"Ambient Pressure\")\n",
    "plt.show()\n"
   ]
  },
  {
   "cell_type": "code",
   "execution_count": 28,
   "metadata": {
    "colab": {
     "base_uri": "https://localhost:8080/",
     "height": 487
    },
    "id": "86B2OyC5zpYg",
    "outputId": "c851dca0-5ba8-4cea-a8c7-917f28567fee"
   },
   "outputs": [
    {
     "data": {
      "image/png": "[encoded data removed]",
      "text/plain": [
       "<Figure size 576x360 with 1 Axes>"
      ]
     },
     "metadata": {
      "needs_background": "light"
     },
     "output_type": "display_data"
    }
   ],
   "source": [
    "import matplotlib.pyplot as plt\n",
    "import seaborn as sns\n",
    "\n",
    "plt.figure(figsize=(8, 5))\n",
    "sns.boxplot(x=df0['amb_pressure'])\n",
    "plt.title(\"Box Plot of Ambient Pressure After Cleaning\")\n",
    "plt.xlabel(\"Ambient Pressure\")\n",
    "plt.show()\n"
   ]
  },
  {
   "cell_type": "code",
   "execution_count": 29,
   "metadata": {
    "colab": {
     "base_uri": "https://localhost:8080/",
     "height": 545
    },
    "id": "kp2ELd4kzs1X",
    "outputId": "cbde60fb-7219-417d-86a5-be5214532d95"
   },
   "outputs": [
    {
     "data": {
      "image/png": "[encoded data removed]",
      "text/plain": [
       "<Figure size 720x432 with 1 Axes>"
      ]
     },
     "metadata": {
      "needs_background": "light"
     },
     "output_type": "display_data"
    }
   ],
   "source": [
    "import matplotlib.pyplot as plt\n",
    "import seaborn as sns\n",
    "\n",
    "plt.figure(figsize=(10, 6))\n",
    "sns.boxplot(data=df0)\n",
    "plt.title(\"Box Plot for Outlier Check After Cleaning\")\n",
    "plt.show()\n"
   ]
  },
  {
   "cell_type": "code",
   "execution_count": 30,
   "metadata": {
    "id": "oUUO4UcP05ax"
   },
   "outputs": [
    {
     "data": {
      "text/html": [
       "<div>\n",
       "<style scoped>\n",
       "    .dataframe tbody tr th:only-of-type {\n",
       "        vertical-align: middle;\n",
       "    }\n",
       "\n",
       "    .dataframe tbody tr th {\n",
       "        vertical-align: top;\n",
       "    }\n",
       "\n",
       "    .dataframe thead th {\n",
       "        text-align: right;\n",
       "    }\n",
       "</style>\n",
       "<table border=\"1\" class=\"dataframe\">\n",
       "  <thead>\n",
       "    <tr style=\"text-align: right;\">\n",
       "      <th></th>\n",
       "      <th>temperature</th>\n",
       "      <th>exhaust_vacuum</th>\n",
       "      <th>amb_pressure</th>\n",
       "      <th>r_humidity</th>\n",
       "      <th>energy_production</th>\n",
       "    </tr>\n",
       "  </thead>\n",
       "  <tbody>\n",
       "    <tr>\n",
       "      <th>0</th>\n",
       "      <td>9.59</td>\n",
       "      <td>38.56</td>\n",
       "      <td>1017.01</td>\n",
       "      <td>60.10</td>\n",
       "      <td>481.30</td>\n",
       "    </tr>\n",
       "    <tr>\n",
       "      <th>1</th>\n",
       "      <td>12.04</td>\n",
       "      <td>42.34</td>\n",
       "      <td>1019.72</td>\n",
       "      <td>94.67</td>\n",
       "      <td>465.36</td>\n",
       "    </tr>\n",
       "    <tr>\n",
       "      <th>2</th>\n",
       "      <td>13.87</td>\n",
       "      <td>45.08</td>\n",
       "      <td>1024.42</td>\n",
       "      <td>81.69</td>\n",
       "      <td>465.48</td>\n",
       "    </tr>\n",
       "    <tr>\n",
       "      <th>3</th>\n",
       "      <td>13.72</td>\n",
       "      <td>54.30</td>\n",
       "      <td>1017.89</td>\n",
       "      <td>79.08</td>\n",
       "      <td>467.05</td>\n",
       "    </tr>\n",
       "    <tr>\n",
       "      <th>4</th>\n",
       "      <td>15.14</td>\n",
       "      <td>49.64</td>\n",
       "      <td>1023.78</td>\n",
       "      <td>75.00</td>\n",
       "      <td>463.58</td>\n",
       "    </tr>\n",
       "    <tr>\n",
       "      <th>...</th>\n",
       "      <td>...</td>\n",
       "      <td>...</td>\n",
       "      <td>...</td>\n",
       "      <td>...</td>\n",
       "      <td>...</td>\n",
       "    </tr>\n",
       "    <tr>\n",
       "      <th>9563</th>\n",
       "      <td>17.10</td>\n",
       "      <td>49.69</td>\n",
       "      <td>1005.53</td>\n",
       "      <td>81.82</td>\n",
       "      <td>457.32</td>\n",
       "    </tr>\n",
       "    <tr>\n",
       "      <th>9564</th>\n",
       "      <td>24.73</td>\n",
       "      <td>65.34</td>\n",
       "      <td>1015.42</td>\n",
       "      <td>52.80</td>\n",
       "      <td>446.92</td>\n",
       "    </tr>\n",
       "    <tr>\n",
       "      <th>9565</th>\n",
       "      <td>30.44</td>\n",
       "      <td>56.24</td>\n",
       "      <td>1005.19</td>\n",
       "      <td>56.24</td>\n",
       "      <td>429.34</td>\n",
       "    </tr>\n",
       "    <tr>\n",
       "      <th>9566</th>\n",
       "      <td>23.00</td>\n",
       "      <td>66.05</td>\n",
       "      <td>1020.61</td>\n",
       "      <td>80.29</td>\n",
       "      <td>421.57</td>\n",
       "    </tr>\n",
       "    <tr>\n",
       "      <th>9567</th>\n",
       "      <td>17.75</td>\n",
       "      <td>49.25</td>\n",
       "      <td>1020.86</td>\n",
       "      <td>63.67</td>\n",
       "      <td>454.41</td>\n",
       "    </tr>\n",
       "  </tbody>\n",
       "</table>\n",
       "<p>9423 rows × 5 columns</p>\n",
       "</div>"
      ],
      "text/plain": [
       "      temperature  exhaust_vacuum  amb_pressure  r_humidity  energy_production\n",
       "0            9.59           38.56       1017.01       60.10             481.30\n",
       "1           12.04           42.34       1019.72       94.67             465.36\n",
       "2           13.87           45.08       1024.42       81.69             465.48\n",
       "3           13.72           54.30       1017.89       79.08             467.05\n",
       "4           15.14           49.64       1023.78       75.00             463.58\n",
       "...           ...             ...           ...         ...                ...\n",
       "9563        17.10           49.69       1005.53       81.82             457.32\n",
       "9564        24.73           65.34       1015.42       52.80             446.92\n",
       "9565        30.44           56.24       1005.19       56.24             429.34\n",
       "9566        23.00           66.05       1020.61       80.29             421.57\n",
       "9567        17.75           49.25       1020.86       63.67             454.41\n",
       "\n",
       "[9423 rows x 5 columns]"
      ]
     },
     "execution_count": 30,
     "metadata": {},
     "output_type": "execute_result"
    }
   ],
   "source": [
    "df0"
   ]
  },
  {
   "cell_type": "markdown",
   "metadata": {},
   "source": [
    "# Model Building:-"
   ]
  },
  {
   "cell_type": "code",
   "execution_count": 31,
   "metadata": {},
   "outputs": [],
   "source": [
    "from sklearn.model_selection import train_test_split\n",
    "from sklearn.linear_model import LinearRegression\n",
    "from sklearn.linear_model import Ridge, Lasso\n",
    "from sklearn.tree import DecisionTreeRegressor\n",
    "from sklearn.svm import SVR\n",
    "from sklearn.ensemble import RandomForestRegressor, GradientBoostingRegressor, BaggingRegressor\n",
    "from sklearn.metrics import r2_score, classification_report, mean_squared_error"
   ]
  },
  {
   "cell_type": "code",
   "execution_count": 32,
   "metadata": {},
   "outputs": [
    {
     "data": {
      "text/html": [
       "<div>\n",
       "<style scoped>\n",
       "    .dataframe tbody tr th:only-of-type {\n",
       "        vertical-align: middle;\n",
       "    }\n",
       "\n",
       "    .dataframe tbody tr th {\n",
       "        vertical-align: top;\n",
       "    }\n",
       "\n",
       "    .dataframe thead th {\n",
       "        text-align: right;\n",
       "    }\n",
       "</style>\n",
       "<table border=\"1\" class=\"dataframe\">\n",
       "  <thead>\n",
       "    <tr style=\"text-align: right;\">\n",
       "      <th></th>\n",
       "      <th>energy_production</th>\n",
       "    </tr>\n",
       "  </thead>\n",
       "  <tbody>\n",
       "    <tr>\n",
       "      <th>0</th>\n",
       "      <td>481.30</td>\n",
       "    </tr>\n",
       "    <tr>\n",
       "      <th>1</th>\n",
       "      <td>465.36</td>\n",
       "    </tr>\n",
       "    <tr>\n",
       "      <th>2</th>\n",
       "      <td>465.48</td>\n",
       "    </tr>\n",
       "    <tr>\n",
       "      <th>3</th>\n",
       "      <td>467.05</td>\n",
       "    </tr>\n",
       "    <tr>\n",
       "      <th>4</th>\n",
       "      <td>463.58</td>\n",
       "    </tr>\n",
       "    <tr>\n",
       "      <th>...</th>\n",
       "      <td>...</td>\n",
       "    </tr>\n",
       "    <tr>\n",
       "      <th>9563</th>\n",
       "      <td>457.32</td>\n",
       "    </tr>\n",
       "    <tr>\n",
       "      <th>9564</th>\n",
       "      <td>446.92</td>\n",
       "    </tr>\n",
       "    <tr>\n",
       "      <th>9565</th>\n",
       "      <td>429.34</td>\n",
       "    </tr>\n",
       "    <tr>\n",
       "      <th>9566</th>\n",
       "      <td>421.57</td>\n",
       "    </tr>\n",
       "    <tr>\n",
       "      <th>9567</th>\n",
       "      <td>454.41</td>\n",
       "    </tr>\n",
       "  </tbody>\n",
       "</table>\n",
       "<p>9423 rows × 1 columns</p>\n",
       "</div>"
      ],
      "text/plain": [
       "      energy_production\n",
       "0                481.30\n",
       "1                465.36\n",
       "2                465.48\n",
       "3                467.05\n",
       "4                463.58\n",
       "...                 ...\n",
       "9563             457.32\n",
       "9564             446.92\n",
       "9565             429.34\n",
       "9566             421.57\n",
       "9567             454.41\n",
       "\n",
       "[9423 rows x 1 columns]"
      ]
     },
     "execution_count": 32,
     "metadata": {},
     "output_type": "execute_result"
    }
   ],
   "source": [
    "target= df0[['energy_production']]\n",
    "target"
   ]
  },
  {
   "cell_type": "code",
   "execution_count": 33,
   "metadata": {},
   "outputs": [
    {
     "data": {
      "text/html": [
       "<div>\n",
       "<style scoped>\n",
       "    .dataframe tbody tr th:only-of-type {\n",
       "        vertical-align: middle;\n",
       "    }\n",
       "\n",
       "    .dataframe tbody tr th {\n",
       "        vertical-align: top;\n",
       "    }\n",
       "\n",
       "    .dataframe thead th {\n",
       "        text-align: right;\n",
       "    }\n",
       "</style>\n",
       "<table border=\"1\" class=\"dataframe\">\n",
       "  <thead>\n",
       "    <tr style=\"text-align: right;\">\n",
       "      <th></th>\n",
       "      <th>temperature</th>\n",
       "      <th>exhaust_vacuum</th>\n",
       "      <th>amb_pressure</th>\n",
       "      <th>r_humidity</th>\n",
       "    </tr>\n",
       "  </thead>\n",
       "  <tbody>\n",
       "    <tr>\n",
       "      <th>0</th>\n",
       "      <td>9.59</td>\n",
       "      <td>38.56</td>\n",
       "      <td>1017.01</td>\n",
       "      <td>60.10</td>\n",
       "    </tr>\n",
       "    <tr>\n",
       "      <th>1</th>\n",
       "      <td>12.04</td>\n",
       "      <td>42.34</td>\n",
       "      <td>1019.72</td>\n",
       "      <td>94.67</td>\n",
       "    </tr>\n",
       "    <tr>\n",
       "      <th>2</th>\n",
       "      <td>13.87</td>\n",
       "      <td>45.08</td>\n",
       "      <td>1024.42</td>\n",
       "      <td>81.69</td>\n",
       "    </tr>\n",
       "    <tr>\n",
       "      <th>3</th>\n",
       "      <td>13.72</td>\n",
       "      <td>54.30</td>\n",
       "      <td>1017.89</td>\n",
       "      <td>79.08</td>\n",
       "    </tr>\n",
       "    <tr>\n",
       "      <th>4</th>\n",
       "      <td>15.14</td>\n",
       "      <td>49.64</td>\n",
       "      <td>1023.78</td>\n",
       "      <td>75.00</td>\n",
       "    </tr>\n",
       "    <tr>\n",
       "      <th>...</th>\n",
       "      <td>...</td>\n",
       "      <td>...</td>\n",
       "      <td>...</td>\n",
       "      <td>...</td>\n",
       "    </tr>\n",
       "    <tr>\n",
       "      <th>9563</th>\n",
       "      <td>17.10</td>\n",
       "      <td>49.69</td>\n",
       "      <td>1005.53</td>\n",
       "      <td>81.82</td>\n",
       "    </tr>\n",
       "    <tr>\n",
       "      <th>9564</th>\n",
       "      <td>24.73</td>\n",
       "      <td>65.34</td>\n",
       "      <td>1015.42</td>\n",
       "      <td>52.80</td>\n",
       "    </tr>\n",
       "    <tr>\n",
       "      <th>9565</th>\n",
       "      <td>30.44</td>\n",
       "      <td>56.24</td>\n",
       "      <td>1005.19</td>\n",
       "      <td>56.24</td>\n",
       "    </tr>\n",
       "    <tr>\n",
       "      <th>9566</th>\n",
       "      <td>23.00</td>\n",
       "      <td>66.05</td>\n",
       "      <td>1020.61</td>\n",
       "      <td>80.29</td>\n",
       "    </tr>\n",
       "    <tr>\n",
       "      <th>9567</th>\n",
       "      <td>17.75</td>\n",
       "      <td>49.25</td>\n",
       "      <td>1020.86</td>\n",
       "      <td>63.67</td>\n",
       "    </tr>\n",
       "  </tbody>\n",
       "</table>\n",
       "<p>9423 rows × 4 columns</p>\n",
       "</div>"
      ],
      "text/plain": [
       "      temperature  exhaust_vacuum  amb_pressure  r_humidity\n",
       "0            9.59           38.56       1017.01       60.10\n",
       "1           12.04           42.34       1019.72       94.67\n",
       "2           13.87           45.08       1024.42       81.69\n",
       "3           13.72           54.30       1017.89       79.08\n",
       "4           15.14           49.64       1023.78       75.00\n",
       "...           ...             ...           ...         ...\n",
       "9563        17.10           49.69       1005.53       81.82\n",
       "9564        24.73           65.34       1015.42       52.80\n",
       "9565        30.44           56.24       1005.19       56.24\n",
       "9566        23.00           66.05       1020.61       80.29\n",
       "9567        17.75           49.25       1020.86       63.67\n",
       "\n",
       "[9423 rows x 4 columns]"
      ]
     },
     "execution_count": 33,
     "metadata": {},
     "output_type": "execute_result"
    }
   ],
   "source": [
    "feature= df0.drop('energy_production', axis=1)\n",
    "feature"
   ]
  },
  {
   "cell_type": "code",
   "execution_count": 34,
   "metadata": {},
   "outputs": [],
   "source": [
    "x_train,x_test,y_train,y_test= train_test_split(feature, target, train_size=0.80, random_state=45)"
   ]
  },
  {
   "cell_type": "code",
   "execution_count": 35,
   "metadata": {},
   "outputs": [
    {
     "name": "stdout",
     "output_type": "stream",
     "text": [
      "(7538, 4)\n",
      "(1885, 4)\n",
      "(7538, 1)\n",
      "(1885, 1)\n"
     ]
    }
   ],
   "source": [
    "print(x_train.shape)\n",
    "print(x_test.shape)\n",
    "print(y_train.shape)\n",
    "print(y_test.shape)"
   ]
  },
  {
   "cell_type": "markdown",
   "metadata": {},
   "source": [
    "# Linear Regression:-"
   ]
  },
  {
   "cell_type": "code",
   "execution_count": 36,
   "metadata": {},
   "outputs": [
    {
     "name": "stdout",
     "output_type": "stream",
     "text": [
      "Accuracy score of given data using Linear Regrresion is: 0.93\n",
      "Mean Squared Error of given data using Linear Regression is: 20.86\n"
     ]
    }
   ],
   "source": [
    "lin_model=LinearRegression()\n",
    "lin_model.fit(x_train,y_train)\n",
    "y_pred= lin_model.predict(x_test)\n",
    "score_lin_model= r2_score(y_test,y_pred)\n",
    "mse_lin_model= mean_squared_error(y_test,y_pred)\n",
    "print(f'Accuracy score of given data using Linear Regrresion is: {score_lin_model:.2f}')\n",
    "print(f'Mean Squared Error of given data using Linear Regression is: {mse_lin_model:.2f}')"
   ]
  },
  {
   "cell_type": "markdown",
   "metadata": {},
   "source": [
    "# Lasso Regressor:-"
   ]
  },
  {
   "cell_type": "code",
   "execution_count": 37,
   "metadata": {},
   "outputs": [
    {
     "name": "stdout",
     "output_type": "stream",
     "text": [
      "Accuracy score for the given data by using Lasso Regression is: 0.93\n",
      "Mean Squared Error for the given data by using Lasso Regression is: 20.88\n"
     ]
    }
   ],
   "source": [
    "lasso_model= Lasso()\n",
    "lasso_model.fit(x_train,y_train)\n",
    "y_pred= lasso_model.predict(x_test)\n",
    "score_lasso_model= r2_score(y_test,y_pred)\n",
    "mse_lasso_model= mean_squared_error(y_test,y_pred)\n",
    "print(f'Accuracy score for the given data by using Lasso Regression is: {score_lasso_model:.2f}')\n",
    "print(f'Mean Squared Error for the given data by using Lasso Regression is: {mse_lasso_model:.2f}')"
   ]
  },
  {
   "cell_type": "markdown",
   "metadata": {},
   "source": [
    "# Decision Tree Regressor:-"
   ]
  },
  {
   "cell_type": "code",
   "execution_count": 38,
   "metadata": {},
   "outputs": [
    {
     "name": "stdout",
     "output_type": "stream",
     "text": [
      "Accuracy score for the given data by using Decision Tree Regressor is: 0.93\n",
      "Mean Squared Error for the given data by using Decision Tree Regressor is: 20.25\n"
     ]
    }
   ],
   "source": [
    "dec_tree= DecisionTreeRegressor()\n",
    "dec_tree.fit(x_train,y_train)\n",
    "y_pred= dec_tree.predict(x_test)\n",
    "score_dec_tree= r2_score(y_test,y_pred)\n",
    "mse_dec_tree= mean_squared_error(y_test,y_pred)\n",
    "print(f'Accuracy score for the given data by using Decision Tree Regressor is: {score_dec_tree:.2f}')\n",
    "print(f'Mean Squared Error for the given data by using Decision Tree Regressor is: {mse_dec_tree:.2f}')"
   ]
  },
  {
   "cell_type": "markdown",
   "metadata": {},
   "source": [
    "# Support Vector Regressor:-"
   ]
  },
  {
   "cell_type": "code",
   "execution_count": 39,
   "metadata": {},
   "outputs": [
    {
     "name": "stderr",
     "output_type": "stream",
     "text": [
      "C:\\Users\\Indranil Joshi\\anaconda3\\lib\\site-packages\\sklearn\\utils\\validation.py:993: DataConversionWarning: A column-vector y was passed when a 1d array was expected. Please change the shape of y to (n_samples, ), for example using ravel().\n",
      "  y = column_or_1d(y, warn=True)\n"
     ]
    },
    {
     "name": "stdout",
     "output_type": "stream",
     "text": [
      "Accuracy score for given data by using Support Vector Regressor is: 0.38\n",
      "Mean Square Error for the given data by using Support Vetctor Regressor is: 174.95\n"
     ]
    }
   ],
   "source": [
    "svr_model= SVR()\n",
    "svr_model.fit(x_train,y_train)\n",
    "y_pred= svr_model.predict(x_test)\n",
    "score_svr_model= r2_score(y_test,y_pred)\n",
    "mse_svr_model= mean_squared_error(y_test,y_pred)\n",
    "print(f'Accuracy score for given data by using Support Vector Regressor is: {score_svr_model:.2f}')\n",
    "print(f'Mean Square Error for the given data by using Support Vetctor Regressor is: {mse_svr_model:.2f}')"
   ]
  },
  {
   "cell_type": "markdown",
   "metadata": {},
   "source": [
    "# Random Forest Regressor:-"
   ]
  },
  {
   "cell_type": "code",
   "execution_count": 40,
   "metadata": {},
   "outputs": [
    {
     "name": "stderr",
     "output_type": "stream",
     "text": [
      "C:\\Users\\Indranil Joshi\\AppData\\Local\\Temp\\ipykernel_13020\\2462478879.py:2: DataConversionWarning: A column-vector y was passed when a 1d array was expected. Please change the shape of y to (n_samples,), for example using ravel().\n",
      "  random_model.fit(x_train,y_train)\n"
     ]
    },
    {
     "name": "stdout",
     "output_type": "stream",
     "text": [
      "Accuracy score for given data by using Random Forest Regressor is: 0.96\n",
      "Mean Square Error for the given data by using Random Forest Regressor is: 10.99\n"
     ]
    }
   ],
   "source": [
    "random_model= RandomForestRegressor()\n",
    "random_model.fit(x_train,y_train)\n",
    "y_pred= random_model.predict(x_test)\n",
    "score_random_model= r2_score(y_test,y_pred)\n",
    "mse_random_model= mean_squared_error(y_test,y_pred)\n",
    "print(f'Accuracy score for given data by using Random Forest Regressor is: {score_random_model:.2f}')\n",
    "print(f'Mean Square Error for the given data by using Random Forest Regressor is: {mse_random_model:.2f}')"
   ]
  },
  {
   "cell_type": "markdown",
   "metadata": {},
   "source": [
    "# Gradient Boosting Regressor:-"
   ]
  },
  {
   "cell_type": "code",
   "execution_count": 41,
   "metadata": {},
   "outputs": [
    {
     "name": "stderr",
     "output_type": "stream",
     "text": [
      "C:\\Users\\Indranil Joshi\\anaconda3\\lib\\site-packages\\sklearn\\ensemble\\_gb.py:494: DataConversionWarning: A column-vector y was passed when a 1d array was expected. Please change the shape of y to (n_samples, ), for example using ravel().\n",
      "  y = column_or_1d(y, warn=True)\n"
     ]
    },
    {
     "name": "stdout",
     "output_type": "stream",
     "text": [
      "Accuracy score for the given data by using Gradient Boosting Regressor is: 0.94\n",
      "Mean Square Error for the given data by using Gradient Boosting Regressor is: 15.56\n"
     ]
    }
   ],
   "source": [
    "gradient_model= GradientBoostingRegressor()\n",
    "gradient_model.fit(x_train,y_train)\n",
    "y_pred= gradient_model.predict(x_test)\n",
    "score_gradient_model= r2_score(y_test,y_pred)\n",
    "mse_gradient_model= mean_squared_error(y_test,y_pred)\n",
    "print(f'Accuracy score for the given data by using Gradient Boosting Regressor is: {score_gradient_model:.2f}')\n",
    "print(f'Mean Square Error for the given data by using Gradient Boosting Regressor is: {mse_gradient_model:.2f}')"
   ]
  },
  {
   "cell_type": "markdown",
   "metadata": {},
   "source": [
    "# Bagging Regressor:-"
   ]
  },
  {
   "cell_type": "code",
   "execution_count": 42,
   "metadata": {},
   "outputs": [
    {
     "name": "stderr",
     "output_type": "stream",
     "text": [
      "C:\\Users\\Indranil Joshi\\anaconda3\\lib\\site-packages\\sklearn\\ensemble\\_bagging.py:429: DataConversionWarning: A column-vector y was passed when a 1d array was expected. Please change the shape of y to (n_samples, ), for example using ravel().\n",
      "  return column_or_1d(y, warn=True)\n"
     ]
    },
    {
     "name": "stdout",
     "output_type": "stream",
     "text": [
      "Accuracy score for the given data by using Bagging Regressor is: 0.96\n",
      "Mean Squared Error for the given data by using Bagging Regressor is: 12.13\n"
     ]
    }
   ],
   "source": [
    "bag_model= BaggingRegressor()\n",
    "bag_model.fit(x_train,y_train)\n",
    "y_pred= bag_model.predict(x_test)\n",
    "score_bag_model= r2_score(y_test,y_pred)\n",
    "mse_bag_model= mean_squared_error(y_test,y_pred)\n",
    "print(f'Accuracy score for the given data by using Bagging Regressor is: {score_bag_model:.2f}')\n",
    "print(f'Mean Squared Error for the given data by using Bagging Regressor is: {mse_bag_model:.2f}')"
   ]
  },
  {
   "cell_type": "markdown",
   "metadata": {},
   "source": [
    "# Model Evaluation:-"
   ]
  },
  {
   "cell_type": "code",
   "execution_count": 43,
   "metadata": {},
   "outputs": [
    {
     "data": {
      "text/html": [
       "<div>\n",
       "<style scoped>\n",
       "    .dataframe tbody tr th:only-of-type {\n",
       "        vertical-align: middle;\n",
       "    }\n",
       "\n",
       "    .dataframe tbody tr th {\n",
       "        vertical-align: top;\n",
       "    }\n",
       "\n",
       "    .dataframe thead th {\n",
       "        text-align: right;\n",
       "    }\n",
       "</style>\n",
       "<table border=\"1\" class=\"dataframe\">\n",
       "  <thead>\n",
       "    <tr style=\"text-align: right;\">\n",
       "      <th></th>\n",
       "      <th>Model</th>\n",
       "      <th>Accuracy Score(%)</th>\n",
       "      <th>MSE</th>\n",
       "    </tr>\n",
       "  </thead>\n",
       "  <tbody>\n",
       "    <tr>\n",
       "      <th>0</th>\n",
       "      <td>Linear Regression</td>\n",
       "      <td>0.925891</td>\n",
       "      <td>20.856086</td>\n",
       "    </tr>\n",
       "    <tr>\n",
       "      <th>1</th>\n",
       "      <td>Lasso Regressor</td>\n",
       "      <td>0.925818</td>\n",
       "      <td>20.876654</td>\n",
       "    </tr>\n",
       "    <tr>\n",
       "      <th>2</th>\n",
       "      <td>Decision Tree Regressor</td>\n",
       "      <td>0.928043</td>\n",
       "      <td>20.250488</td>\n",
       "    </tr>\n",
       "    <tr>\n",
       "      <th>3</th>\n",
       "      <td>Support Vector Regressor</td>\n",
       "      <td>0.378349</td>\n",
       "      <td>174.948292</td>\n",
       "    </tr>\n",
       "    <tr>\n",
       "      <th>4</th>\n",
       "      <td>Random Forest Regressor</td>\n",
       "      <td>0.960934</td>\n",
       "      <td>10.994066</td>\n",
       "    </tr>\n",
       "    <tr>\n",
       "      <th>5</th>\n",
       "      <td>Gradient Boosting Regressor</td>\n",
       "      <td>0.944705</td>\n",
       "      <td>15.561470</td>\n",
       "    </tr>\n",
       "    <tr>\n",
       "      <th>6</th>\n",
       "      <td>Bagging Regressor</td>\n",
       "      <td>0.956904</td>\n",
       "      <td>12.128340</td>\n",
       "    </tr>\n",
       "  </tbody>\n",
       "</table>\n",
       "</div>"
      ],
      "text/plain": [
       "                         Model  Accuracy Score(%)         MSE\n",
       "0            Linear Regression           0.925891   20.856086\n",
       "1              Lasso Regressor           0.925818   20.876654\n",
       "2      Decision Tree Regressor           0.928043   20.250488\n",
       "3     Support Vector Regressor           0.378349  174.948292\n",
       "4      Random Forest Regressor           0.960934   10.994066\n",
       "5  Gradient Boosting Regressor           0.944705   15.561470\n",
       "6            Bagging Regressor           0.956904   12.128340"
      ]
     },
     "execution_count": 43,
     "metadata": {},
     "output_type": "execute_result"
    }
   ],
   "source": [
    "evaluation= {'Model': ['Linear Regression', 'Lasso Regressor', 'Decision Tree Regressor', 'Support Vector Regressor', 'Random Forest Regressor', 'Gradient Boosting Regressor', 'Bagging Regressor'],\n",
    "            'Accuracy Score(%)': [score_lin_model,score_lasso_model,score_dec_tree,score_svr_model,score_random_model,score_gradient_model,score_bag_model],\n",
    "            'MSE': [mse_lin_model,mse_lasso_model,mse_dec_tree,mse_svr_model,mse_random_model,mse_gradient_model,mse_bag_model]}\n",
    "\n",
    "table= pd.DataFrame(evaluation)\n",
    "table"
   ]
  },
  {
   "cell_type": "code",
   "execution_count": 44,
   "metadata": {},
   "outputs": [
    {
     "name": "stderr",
     "output_type": "stream",
     "text": [
      "C:\\Users\\Indranil Joshi\\AppData\\Local\\Temp\\ipykernel_13020\\779111930.py:1: DataConversionWarning: A column-vector y was passed when a 1d array was expected. Please change the shape of y to (n_samples,), for example using ravel().\n",
      "  random_model.fit(x_train,y_train)\n"
     ]
    },
    {
     "name": "stdout",
     "output_type": "stream",
     "text": [
      "Accuracy score of the given data by using Support Vector Regreesor is: 0.96\n",
      "Mean Square Error of the given data by using Support Vector Regressor is: 11.02\n"
     ]
    }
   ],
   "source": [
    "random_model.fit(x_train,y_train)\n",
    "y_pred=random_model.predict(x_test)\n",
    "score_random_model= r2_score(y_test,y_pred)\n",
    "mse_random_model= mean_squared_error(y_test,y_pred)\n",
    "print(f'Accuracy score of the given data by using Support Vector Regreesor is: {score_random_model:.2f}')\n",
    "print(f'Mean Square Error of the given data by using Support Vector Regressor is: {mse_random_model:.2f}')\n"
   ]
  },
  {
   "cell_type": "code",
   "execution_count": null,
   "metadata": {},
   "outputs": [],
   "source": []
  }
 ],
 "metadata": {
  "colab": {
   "provenance": []
  },
  "kernelspec": {
   "display_name": "Python 3 (ipykernel)",
   "language": "python",
   "name": "python3"
  },
  "language_info": {
   "codemirror_mode": {
    "name": "ipython",
    "version": 3
   },
   "file_extension": ".py",
   "mimetype": "text/x-python",
   "name": "python",
   "nbconvert_exporter": "python",
   "pygments_lexer": "ipython3",
   "version": "3.9.12"
  }
 },
 "nbformat": 4,
 "nbformat_minor": 1
}
